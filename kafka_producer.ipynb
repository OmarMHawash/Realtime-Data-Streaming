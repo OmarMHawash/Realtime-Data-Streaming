{
 "cells": [
  {
   "cell_type": "code",
   "execution_count": 6,
   "metadata": {},
   "outputs": [],
   "source": [
    "import gzip\n",
    "from time import sleep\n",
    "from json import dumps\n",
    "\n",
    "topic = 'tweets'\n",
    "BS_SERVERS = ['localhost:9092']\n",
    "sleep_time = 5 # in seconds\n",
    "bulk_size = 1000\n",
    "stream_limit = 100000000"
   ]
  },
  {
   "cell_type": "code",
   "execution_count": 7,
   "metadata": {},
   "outputs": [],
   "source": [
    "import random\n",
    "from datetime import datetime, timedelta\n",
    "\n",
    "def rand_date():\n",
    "  today = datetime.today()\n",
    "  years_ago = today - timedelta(days=30)\n",
    "  random_days = random.randint(0, 30)\n",
    "\n",
    "  # Calculate the random date\n",
    "  random_date = years_ago + timedelta(days=random_days)\n",
    "  random_date = random_date.strftime(\"%Y-%m-%d\")\n",
    "  return random_date"
   ]
  },
  {
   "cell_type": "code",
   "execution_count": 8,
   "metadata": {},
   "outputs": [],
   "source": [
    "## functions\n",
    "def get_tweet(idx, line) -> dict:\n",
    "  \"\"\" ### Converts a line of text into a dictionary representing a tweet.\n",
    "\n",
    "  #### Args:\n",
    "    `idx` (int): The index of the line.\n",
    "    `line` (str): The line of text representing a tweet.\n",
    "\n",
    "  #### Returns:\n",
    "    `dict`: A dictionary representing the tweet with the keys 'id', 'date', 'user', 'text', and 'retweets'.\n",
    "  \"\"\"\n",
    "  try:\n",
    "    line = line.replace(\"\\'\", \"\\\"\")\n",
    "    attribute_details = line.split(',')\n",
    "    tweet = {\n",
    "      \"id\": attribute_details[1],\n",
    "      \"date\": rand_date(),\n",
    "      \"user\": attribute_details[4],\n",
    "      \"text\": attribute_details[5],\n",
    "      \"retweets\": int(random.random() * 10)\n",
    "    }\n",
    "    return tweet\n",
    "  except:\n",
    "    print(f\"error at {idx}\")\n",
    "    return ''"
   ]
  },
  {
   "cell_type": "code",
   "execution_count": 9,
   "metadata": {},
   "outputs": [],
   "source": [
    "## setting up the producer\n",
    "from kafka import KafkaProducer\n",
    "\n",
    "DUMP = lambda x: dumps(x).encode('utf-8')\n",
    "producer = KafkaProducer(\n",
    "  bootstrap_servers = BS_SERVERS,\n",
    "  value_serializer = DUMP)"
   ]
  },
  {
   "cell_type": "code",
   "execution_count": 10,
   "metadata": {},
   "outputs": [
    {
     "name": "stdout",
     "output_type": "stream",
     "text": [
      "streamed 1000 tweets\n",
      "streamed 2000 tweets\n",
      "streamed 3000 tweets\n",
      "streamed 4000 tweets\n"
     ]
    }
   ],
   "source": [
    "## sending stream of tweets\n",
    "with gzip.open('data/training.1600000.processed.noemoticon.csv.gz','rt',encoding='latin-1') as f:\n",
    "  for i, line in enumerate(f):\n",
    "    tweet = get_tweet(i,line)\n",
    "    producer.send('tweets', value=tweet)\n",
    "    if i % bulk_size==0 and i > 0:\n",
    "      print(f\"streamed {i} {topic}\")\n",
    "      sleep(sleep_time)\n",
    "    if i > stream_limit:\n",
    "      break"
   ]
  }
 ],
 "metadata": {
  "kernelspec": {
   "display_name": "sparknlp",
   "language": "python",
   "name": "python3"
  },
  "language_info": {
   "codemirror_mode": {
    "name": "ipython",
    "version": 3
   },
   "file_extension": ".py",
   "mimetype": "text/x-python",
   "name": "python",
   "nbconvert_exporter": "python",
   "pygments_lexer": "ipython3",
   "version": "3.11.4"
  }
 },
 "nbformat": 4,
 "nbformat_minor": 2
}
